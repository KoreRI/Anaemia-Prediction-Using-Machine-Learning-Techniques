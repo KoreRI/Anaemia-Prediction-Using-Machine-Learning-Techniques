{
 "cells": [
  {
   "cell_type": "code",
   "execution_count": 39,
   "id": "27a40059-4895-4938-8c89-0a4dbe04d41f",
   "metadata": {},
   "outputs": [],
   "source": [
    "import pandas as pd\n",
    "import seaborn as sns\n",
    "import matplotlib.pyplot as plt\n",
    "%matplotlib inline\n",
    "from sklearn.preprocessing import LabelEncoder\n",
    "from sklearn.preprocessing import StandardScaler\n",
    "from sklearn.model_selection import train_test_split\n",
    "from sklearn.metrics import accuracy_score\n",
    "from sklearn.metrics import classification_report\n",
    "from sklearn.linear_model import LogisticRegression\n",
    "from sklearn.neighbors import KNeighborsClassifier\n",
    "from sklearn.naive_bayes import GaussianNB\n",
    "from sklearn.ensemble import RandomForestClassifier"
   ]
  },
  {
   "cell_type": "code",
   "execution_count": 32,
   "id": "d680fb54-730f-4b72-99dc-1f0dc4e071ff",
   "metadata": {},
   "outputs": [
    {
     "data": {
      "text/html": [
       "<div>\n",
       "<style scoped>\n",
       "    .dataframe tbody tr th:only-of-type {\n",
       "        vertical-align: middle;\n",
       "    }\n",
       "\n",
       "    .dataframe tbody tr th {\n",
       "        vertical-align: top;\n",
       "    }\n",
       "\n",
       "    .dataframe thead th {\n",
       "        text-align: right;\n",
       "    }\n",
       "</style>\n",
       "<table border=\"1\" class=\"dataframe\">\n",
       "  <thead>\n",
       "    <tr style=\"text-align: right;\">\n",
       "      <th></th>\n",
       "      <th>Number</th>\n",
       "      <th>Sex</th>\n",
       "      <th>%Red Pixel</th>\n",
       "      <th>%Green pixel</th>\n",
       "      <th>%Blue pixel</th>\n",
       "      <th>Hb</th>\n",
       "      <th>Anaemic</th>\n",
       "    </tr>\n",
       "  </thead>\n",
       "  <tbody>\n",
       "    <tr>\n",
       "      <th>0</th>\n",
       "      <td>1</td>\n",
       "      <td>M</td>\n",
       "      <td>43.264176</td>\n",
       "      <td>30.838924</td>\n",
       "      <td>25.899587</td>\n",
       "      <td>6.297293</td>\n",
       "      <td>Yes</td>\n",
       "    </tr>\n",
       "    <tr>\n",
       "      <th>1</th>\n",
       "      <td>2</td>\n",
       "      <td>F</td>\n",
       "      <td>43.144832</td>\n",
       "      <td>30.171404</td>\n",
       "      <td>26.692997</td>\n",
       "      <td>8.608315</td>\n",
       "      <td>Yes</td>\n",
       "    </tr>\n",
       "    <tr>\n",
       "      <th>2</th>\n",
       "      <td>3</td>\n",
       "      <td>F</td>\n",
       "      <td>46.506491</td>\n",
       "      <td>27.430905</td>\n",
       "      <td>26.051133</td>\n",
       "      <td>9.713010</td>\n",
       "      <td>Yes</td>\n",
       "    </tr>\n",
       "    <tr>\n",
       "      <th>3</th>\n",
       "      <td>4</td>\n",
       "      <td>F</td>\n",
       "      <td>44.963982</td>\n",
       "      <td>30.519205</td>\n",
       "      <td>24.499161</td>\n",
       "      <td>4.809385</td>\n",
       "      <td>Yes</td>\n",
       "    </tr>\n",
       "    <tr>\n",
       "      <th>4</th>\n",
       "      <td>5</td>\n",
       "      <td>M</td>\n",
       "      <td>45.069466</td>\n",
       "      <td>31.089378</td>\n",
       "      <td>23.853518</td>\n",
       "      <td>8.995228</td>\n",
       "      <td>Yes</td>\n",
       "    </tr>\n",
       "  </tbody>\n",
       "</table>\n",
       "</div>"
      ],
      "text/plain": [
       "   Number Sex  %Red Pixel  %Green pixel  %Blue pixel        Hb Anaemic\n",
       "0       1   M   43.264176     30.838924    25.899587  6.297293     Yes\n",
       "1       2   F   43.144832     30.171404    26.692997  8.608315     Yes\n",
       "2       3   F   46.506491     27.430905    26.051133  9.713010     Yes\n",
       "3       4   F   44.963982     30.519205    24.499161  4.809385     Yes\n",
       "4       5  M    45.069466     31.089378    23.853518  8.995228     Yes"
      ]
     },
     "execution_count": 32,
     "metadata": {},
     "output_type": "execute_result"
    }
   ],
   "source": [
    "data = pd.read_csv(\"Anaemia Prediction Dataset.csv\")\n",
    "data.head()"
   ]
  },
  {
   "cell_type": "code",
   "execution_count": 33,
   "id": "6d6efef6-909f-4738-8f6e-a9c5fa66d9f8",
   "metadata": {},
   "outputs": [
    {
     "data": {
      "text/html": [
       "<div>\n",
       "<style scoped>\n",
       "    .dataframe tbody tr th:only-of-type {\n",
       "        vertical-align: middle;\n",
       "    }\n",
       "\n",
       "    .dataframe tbody tr th {\n",
       "        vertical-align: top;\n",
       "    }\n",
       "\n",
       "    .dataframe thead th {\n",
       "        text-align: right;\n",
       "    }\n",
       "</style>\n",
       "<table border=\"1\" class=\"dataframe\">\n",
       "  <thead>\n",
       "    <tr style=\"text-align: right;\">\n",
       "      <th></th>\n",
       "      <th>Number</th>\n",
       "      <th>%Red Pixel</th>\n",
       "      <th>%Green pixel</th>\n",
       "      <th>%Blue pixel</th>\n",
       "      <th>Hb</th>\n",
       "    </tr>\n",
       "  </thead>\n",
       "  <tbody>\n",
       "    <tr>\n",
       "      <th>count</th>\n",
       "      <td>500.000000</td>\n",
       "      <td>500.000000</td>\n",
       "      <td>500.000000</td>\n",
       "      <td>500.000000</td>\n",
       "      <td>500.000000</td>\n",
       "    </tr>\n",
       "    <tr>\n",
       "      <th>mean</th>\n",
       "      <td>250.500000</td>\n",
       "      <td>45.031248</td>\n",
       "      <td>29.394099</td>\n",
       "      <td>25.574323</td>\n",
       "      <td>10.919802</td>\n",
       "    </tr>\n",
       "    <tr>\n",
       "      <th>std</th>\n",
       "      <td>144.481833</td>\n",
       "      <td>2.782709</td>\n",
       "      <td>1.578104</td>\n",
       "      <td>1.912758</td>\n",
       "      <td>2.825531</td>\n",
       "    </tr>\n",
       "    <tr>\n",
       "      <th>min</th>\n",
       "      <td>1.000000</td>\n",
       "      <td>38.770210</td>\n",
       "      <td>25.132694</td>\n",
       "      <td>19.533140</td>\n",
       "      <td>2.786351</td>\n",
       "    </tr>\n",
       "    <tr>\n",
       "      <th>25%</th>\n",
       "      <td>125.750000</td>\n",
       "      <td>43.157178</td>\n",
       "      <td>28.319301</td>\n",
       "      <td>24.888668</td>\n",
       "      <td>9.019607</td>\n",
       "    </tr>\n",
       "    <tr>\n",
       "      <th>50%</th>\n",
       "      <td>250.500000</td>\n",
       "      <td>44.958299</td>\n",
       "      <td>29.497011</td>\n",
       "      <td>25.989203</td>\n",
       "      <td>10.098340</td>\n",
       "    </tr>\n",
       "    <tr>\n",
       "      <th>75%</th>\n",
       "      <td>375.250000</td>\n",
       "      <td>46.419557</td>\n",
       "      <td>30.569855</td>\n",
       "      <td>26.717849</td>\n",
       "      <td>13.033959</td>\n",
       "    </tr>\n",
       "    <tr>\n",
       "      <th>max</th>\n",
       "      <td>500.000000</td>\n",
       "      <td>54.671638</td>\n",
       "      <td>32.378244</td>\n",
       "      <td>29.855284</td>\n",
       "      <td>16.310904</td>\n",
       "    </tr>\n",
       "  </tbody>\n",
       "</table>\n",
       "</div>"
      ],
      "text/plain": [
       "           Number  %Red Pixel  %Green pixel  %Blue pixel          Hb\n",
       "count  500.000000  500.000000    500.000000   500.000000  500.000000\n",
       "mean   250.500000   45.031248     29.394099    25.574323   10.919802\n",
       "std    144.481833    2.782709      1.578104     1.912758    2.825531\n",
       "min      1.000000   38.770210     25.132694    19.533140    2.786351\n",
       "25%    125.750000   43.157178     28.319301    24.888668    9.019607\n",
       "50%    250.500000   44.958299     29.497011    25.989203   10.098340\n",
       "75%    375.250000   46.419557     30.569855    26.717849   13.033959\n",
       "max    500.000000   54.671638     32.378244    29.855284   16.310904"
      ]
     },
     "execution_count": 33,
     "metadata": {},
     "output_type": "execute_result"
    }
   ],
   "source": [
    "data.describe()\n"
   ]
  },
  {
   "cell_type": "code",
   "execution_count": 6,
   "id": "f2cff36d-c548-44a1-9178-d789569aa071",
   "metadata": {},
   "outputs": [
    {
     "data": {
      "text/plain": [
       "Number          0\n",
       "Sex             0\n",
       "%Red Pixel      0\n",
       "%Green pixel    0\n",
       "%Blue pixel     0\n",
       "Hb              0\n",
       "Anaemic         0\n",
       "dtype: int64"
      ]
     },
     "execution_count": 6,
     "metadata": {},
     "output_type": "execute_result"
    }
   ],
   "source": [
    "data.isnull().sum()"
   ]
  },
  {
   "cell_type": "code",
   "execution_count": 7,
   "id": "add96937-9a40-4ce3-9a5a-4c2a7520429b",
   "metadata": {},
   "outputs": [
    {
     "name": "stdout",
     "output_type": "stream",
     "text": [
      "<class 'pandas.core.frame.DataFrame'>\n",
      "RangeIndex: 500 entries, 0 to 499\n",
      "Data columns (total 7 columns):\n",
      " #   Column        Non-Null Count  Dtype  \n",
      "---  ------        --------------  -----  \n",
      " 0   Number        500 non-null    int64  \n",
      " 1   Sex           500 non-null    object \n",
      " 2   %Red Pixel    500 non-null    float64\n",
      " 3   %Green pixel  500 non-null    float64\n",
      " 4   %Blue pixel   500 non-null    float64\n",
      " 5   Hb            500 non-null    float64\n",
      " 6   Anaemic       500 non-null    object \n",
      "dtypes: float64(4), int64(1), object(2)\n",
      "memory usage: 27.5+ KB\n"
     ]
    }
   ],
   "source": [
    "data.info()"
   ]
  },
  {
   "cell_type": "code",
   "execution_count": 34,
   "id": "8238c6cc-6eca-4145-a7e5-2649af5d8e86",
   "metadata": {},
   "outputs": [],
   "source": [
    "le = LabelEncoder()\n",
    "ge = LabelEncoder()\n",
    "data['Sex'] = ge.fit_transform(data['Sex'])\n",
    "data['Anaemic'] = le.fit_transform(data['Anaemic'])"
   ]
  },
  {
   "cell_type": "code",
   "execution_count": 35,
   "id": "c9abd135-a20d-4353-b960-7929e55f1635",
   "metadata": {},
   "outputs": [],
   "source": [
    "y = data[\"Anaemic\"]\n",
    "x = data.drop([\"Anaemic\"],axis=1)\n",
    "scaler = StandardScaler()\n",
    "X_scaled = scaler.fit_transform(x)\n",
    "X_train,X_test,y_train,y_test = train_test_split(X_scaled,y,test_size=0.30,random_state=20)"
   ]
  },
  {
   "cell_type": "code",
   "execution_count": 36,
   "id": "2828d184-1788-4d70-9fe2-5fac411ce4e6",
   "metadata": {},
   "outputs": [
    {
     "name": "stdout",
     "output_type": "stream",
     "text": [
      "Accuracy by logistic Regression:= 1.000000\n",
      "\n",
      "Classification Report By Logistic Regression Algorithm \n",
      "\n",
      "              precision    recall  f1-score   support\n",
      "\n",
      "           0       1.00      1.00      1.00        78\n",
      "           1       1.00      1.00      1.00        72\n",
      "\n",
      "    accuracy                           1.00       150\n",
      "   macro avg       1.00      1.00      1.00       150\n",
      "weighted avg       1.00      1.00      1.00       150\n",
      "\n"
     ]
    }
   ],
   "source": [
    "lr_model = LogisticRegression()\n",
    "lr_model.fit(X_train,y_train)\n",
    "y_pred = lr.predict(X_test)\n",
    "accuracy = accuracy_score(y_test,y_pred)\n",
    "print(f\"Accuracy by logistic Regression:= {accuracy :2f}\\n\")\n",
    "print(\"Classification Report By Logistic Regression Algorithm \\n\")\n",
    "print(classification_report(y_test,y_pred))"
   ]
  },
  {
   "cell_type": "code",
   "execution_count": 37,
   "id": "00c8bb9f-e08e-4d74-9f41-cce4eeca9e3b",
   "metadata": {},
   "outputs": [
    {
     "name": "stdout",
     "output_type": "stream",
     "text": [
      "Accuracy by KNN:= 0.993333\n",
      "\n",
      "Classification Report By KNN Algorithm \n",
      "\n",
      "              precision    recall  f1-score   support\n",
      "\n",
      "           0       1.00      0.99      0.99        78\n",
      "           1       0.99      1.00      0.99        72\n",
      "\n",
      "    accuracy                           0.99       150\n",
      "   macro avg       0.99      0.99      0.99       150\n",
      "weighted avg       0.99      0.99      0.99       150\n",
      "\n"
     ]
    }
   ],
   "source": [
    "Kclassifier_model = KNeighborsClassifier(n_neighbors = 3)\n",
    "Kclassifier_model.fit(X_train,y_train)\n",
    "y_pred_kclassifier = Kclassifier_model.predict(X_test)\n",
    "accuracy_kclassifier = accuracy_score(y_test,y_pred_kclassifier)\n",
    "print(f\"Accuracy by KNN:= {accuracy_kclassifier :2f}\\n\")\n",
    "print(\"Classification Report By KNN Algorithm \\n\")\n",
    "print(classification_report(y_test,y_pred_kclassifier))"
   ]
  },
  {
   "cell_type": "code",
   "execution_count": 42,
   "id": "e95dd51d-8ca3-4ddb-97b3-219a5e459db8",
   "metadata": {},
   "outputs": [
    {
     "name": "stdout",
     "output_type": "stream",
     "text": [
      "Accuracy by naive bayes:= 0.993333\n",
      "\n",
      "Classification Report By Naive bayes Algorithm \n",
      "\n",
      "              precision    recall  f1-score   support\n",
      "\n",
      "           0       1.00      0.99      0.99        78\n",
      "           1       0.99      1.00      0.99        72\n",
      "\n",
      "    accuracy                           0.99       150\n",
      "   macro avg       0.99      0.99      0.99       150\n",
      "weighted avg       0.99      0.99      0.99       150\n",
      "\n"
     ]
    }
   ],
   "source": [
    "NB_model = GaussianNB()\n",
    "NB_model.fit(X_train,y_train)\n",
    "y_pred_NB = NB_model.predict(X_test)\n",
    "accuracy_NB = accuracy_score(y_test,y_pred_NB)\n",
    "print(f\"Accuracy by naive bayes:= {accuracy_NB :2f}\\n\")\n",
    "print(\"Classification Report By Naive bayes Algorithm \\n\")\n",
    "print(classification_report(y_test,y_pred_NB))"
   ]
  },
  {
   "cell_type": "code",
   "execution_count": 48,
   "id": "b2092541-304a-4fab-b086-3e990189a5c9",
   "metadata": {},
   "outputs": [
    {
     "name": "stdout",
     "output_type": "stream",
     "text": [
      "Accuracy by Random Forest Classifier:= 1.000000\n",
      "\n",
      "Classification Report By Random Forest Algorithm \n",
      "\n",
      "              precision    recall  f1-score   support\n",
      "\n",
      "           0       1.00      1.00      1.00        78\n",
      "           1       1.00      1.00      1.00        72\n",
      "\n",
      "    accuracy                           1.00       150\n",
      "   macro avg       1.00      1.00      1.00       150\n",
      "weighted avg       1.00      1.00      1.00       150\n",
      "\n"
     ]
    }
   ],
   "source": [
    "RF_model = RandomForestClassifier()\n",
    "RF_model.fit(X_train,y_train)\n",
    "y_pred_RF = RF_model.predict(X_test)\n",
    "accuracy_RF = accuracy_score(y_test,y_pred_RF)\n",
    "print(f\"Accuracy by Random Forest Classifier:= {accuracy_RF :2f}\\n\")\n",
    "print(\"Classification Report By Random Forest Algorithm \\n\")\n",
    "print(classification_report(y_test,y_pred_RF))"
   ]
  },
  {
   "cell_type": "code",
   "execution_count": 47,
   "id": "78dd3eb4-3e74-49b5-acf8-8c427359b4ea",
   "metadata": {},
   "outputs": [
    {
     "name": "stdout",
     "output_type": "stream",
     "text": [
      "Accuracy by SVM Classifier:= 1.000000\n",
      "\n",
      "Classification Report By SVM Algorithm \n",
      "\n",
      "              precision    recall  f1-score   support\n",
      "\n",
      "           0       1.00      1.00      1.00        78\n",
      "           1       1.00      1.00      1.00        72\n",
      "\n",
      "    accuracy                           1.00       150\n",
      "   macro avg       1.00      1.00      1.00       150\n",
      "weighted avg       1.00      1.00      1.00       150\n",
      "\n"
     ]
    }
   ],
   "source": [
    "from sklearn import svm\n",
    "SVM_model = svm.SVC()\n",
    "SVM_model.fit(X_train,y_train)\n",
    "y_pred_SVM = SVM_model.predict(X_test)\n",
    "accuracy_SVM = accuracy_score(y_test,y_pred_SVM)\n",
    "print(f\"Accuracy by SVM Classifier:= {accuracy_SVM :2f}\\n\")\n",
    "print(\"Classification Report By SVM Algorithm \\n\")\n",
    "print(classification_report(y_test,y_pred_SVM))"
   ]
  },
  {
   "cell_type": "code",
   "execution_count": null,
   "id": "51595bdd-360b-4788-9fa2-6975235f1de0",
   "metadata": {},
   "outputs": [],
   "source": []
  }
 ],
 "metadata": {
  "kernelspec": {
   "display_name": "Python 3 (ipykernel)",
   "language": "python",
   "name": "python3"
  },
  "language_info": {
   "codemirror_mode": {
    "name": "ipython",
    "version": 3
   },
   "file_extension": ".py",
   "mimetype": "text/x-python",
   "name": "python",
   "nbconvert_exporter": "python",
   "pygments_lexer": "ipython3",
   "version": "3.11.4"
  }
 },
 "nbformat": 4,
 "nbformat_minor": 5
}
